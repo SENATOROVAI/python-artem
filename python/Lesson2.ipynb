{
 "cells": [
  {
   "cell_type": "code",
   "execution_count": null,
   "metadata": {},
   "outputs": [],
   "source": [
    "1.Прошлись ещё раз по Git Hub (повторили за прошлый урок)\n",
    "2.Написали калькулятор (функцию subtrac - вычитание)\n",
    "3.Помогли Ирине с написанием калькулятора\n"
   ]
  }
 ],
 "metadata": {
  "kernelspec": {
   "display_name": "Python 3",
   "language": "python",
   "name": "python3"
  },
  "language_info": {
   "name": "python",
   "version": "3.10.11"
  },
  "orig_nbformat": 4
 },
 "nbformat": 4,
 "nbformat_minor": 2
}
