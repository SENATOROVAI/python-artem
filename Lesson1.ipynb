{
 "cells": [
  {
   "cell_type": "code",
   "execution_count": 1,
   "metadata": {},
   "outputs": [
    {
     "name": "stdout",
     "output_type": "stream",
     "text": [
      "Hello, world\n"
     ]
    }
   ],
   "source": [
    "print(\"Hello, world\")"
   ]
  },
  {
   "cell_type": "markdown",
   "metadata": {},
   "source": []
  },
  {
   "cell_type": "markdown",
   "metadata": {},
   "source": [
    "Git Clone - процесс клонирования репозитория с git hub на локальный хост\n",
    "Fork - операция, позволяющая склонировать любой репозиторий на свой личный аккаунт git hub, позволяющая в дальнейшем сделать pull requests\n",
    "Pull requests - это процесс передачи изменений из личного репозитория в fork-ый-репозитории. Pull-request возможен только тогда, когда были внесены изменения в форкнутый репозиторий \n",
    "Linter - инструмент поиска и анализа ошибок, согласно стандартам ЯП pep8\n",
    "Flak8 = Linter \n",
    "Black(hotkeys shift + alt + f) - инструмент автоформатирования кода, согласно линтеру \n"
   ]
  }
 ],
 "metadata": {
  "kernelspec": {
   "display_name": "Python 3",
   "language": "python",
   "name": "python3"
  },
  "language_info": {
   "codemirror_mode": {
    "name": "ipython",
    "version": 3
   },
   "file_extension": ".py",
   "mimetype": "text/x-python",
   "name": "python",
   "nbconvert_exporter": "python",
   "pygments_lexer": "ipython3",
   "version": "3.10.11"
  },
  "orig_nbformat": 4
 },
 "nbformat": 4,
 "nbformat_minor": 2
}
